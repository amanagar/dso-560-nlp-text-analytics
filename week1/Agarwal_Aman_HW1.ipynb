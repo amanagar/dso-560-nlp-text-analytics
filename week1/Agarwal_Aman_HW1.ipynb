{
 "cells": [
  {
   "cell_type": "markdown",
   "id": "sacred-fantasy",
   "metadata": {},
   "source": [
    "# Homework 1 (Due Tuesday, March 22, 2022 at 6:29pm PST)\n",
    "\n",
    "**Rubric**\n",
    "* Identified 4 major themes from the reviews (2pts)\n",
    "* Regex that groups / cleans the reviews is correctly implemented (4pts)\n",
    "* Word count is correctly implemented (2pts)\n",
    "* Analysis of recommendations and pitfalls/limitations are specific enough to be actionable (2pts)\n",
    "* \n",
    "\n",
    "Not actionable recommendation:\n",
    "* *The store managers should consider trying to improve the drive through experience to be more pleasant for customers*\n",
    "* *Drive throughs are mentioned 23% of the time in reviews, and often focus on how slow the service is. We recommend adopting parallel drive through stations for Atlanta and Chicago*\n",
    "\n",
    "You are a business analyst working for McDonalds. First, read through the reviews in `mcdonalds-yelp-negative-reviews.csv` (found in `datasets` folder). \n",
    "\n",
    "1. Identify 4 recurring themes/topics that reviewers are unhappy with. For example, one theme is that users are consistently unhappy with the drive-through experience.\n",
    "\n",
    "2. Next, using regex, group together all occurrences of these phrases. For example, `drive-thru`, `drive through`, `drivethrough` can all be replaced as `_DRIVE_THROUGH_`.\n",
    "\n",
    "3. Perform a word count, both overall, and broken out by city.\n",
    "\n",
    "4. **Provide a few sentences with your findings and business recommendations.** Make any assumptions you'd like. I just want you to get into the habit of \"finishing\" your analysis: to avoid delivering technical numbers to a non-technical manager.\n",
    "\n",
    "Some considerations in your analysis:\n",
    "\n",
    "* Explain what some of **pitfalls/limitations** are of using only a word count analysis to make these inferences. What additional research/steps would you need to do to verify your conclusions?\n",
    "\n",
    "**Submit everything as a new notebook and Slack direct message (group message) to me (Yu Chen) and the TAs (Mengqi Tan and Siyuan Ni) the HW as an attachment.**\n",
    "\n",
    "**NOTE**: Name the notebook `lastname_firstname_HW1.ipynb`.\n",
    "\n",
    "Every day late is -10%."
   ]
  },
  {
   "cell_type": "markdown",
   "id": "a9f9c5c2",
   "metadata": {},
   "source": [
    "#### 1.\n",
    "\n",
    "4 recurring themes/topics that reviewers are unhappy with are :\n",
    "\n",
    "i)  Poor & slow customer service\n",
    "\n",
    "ii)  Filthy and unclean environment inside the store\n",
    "\n",
    "iii) Unfriendly and Rude staff and management\n",
    "\n",
    "iv) Cold and bad quality of food\n"
   ]
  },
  {
   "cell_type": "markdown",
   "id": "e3ee6ae6",
   "metadata": {},
   "source": [
    "#### 2."
   ]
  },
  {
   "cell_type": "code",
   "execution_count": 327,
   "id": "b5ac82d3",
   "metadata": {},
   "outputs": [
    {
     "data": {
      "text/html": [
       "<div>\n",
       "<style scoped>\n",
       "    .dataframe tbody tr th:only-of-type {\n",
       "        vertical-align: middle;\n",
       "    }\n",
       "\n",
       "    .dataframe tbody tr th {\n",
       "        vertical-align: top;\n",
       "    }\n",
       "\n",
       "    .dataframe thead th {\n",
       "        text-align: right;\n",
       "    }\n",
       "</style>\n",
       "<table border=\"1\" class=\"dataframe\">\n",
       "  <thead>\n",
       "    <tr style=\"text-align: right;\">\n",
       "      <th></th>\n",
       "      <th>_unit_id</th>\n",
       "      <th>city</th>\n",
       "      <th>review</th>\n",
       "    </tr>\n",
       "  </thead>\n",
       "  <tbody>\n",
       "    <tr>\n",
       "      <th>0</th>\n",
       "      <td>679455653</td>\n",
       "      <td>Atlanta</td>\n",
       "      <td>I'm not a huge mcds lover, but I've been to be...</td>\n",
       "    </tr>\n",
       "    <tr>\n",
       "      <th>1</th>\n",
       "      <td>679455654</td>\n",
       "      <td>Atlanta</td>\n",
       "      <td>Terrible customer service. I came in at 9:30pm...</td>\n",
       "    </tr>\n",
       "    <tr>\n",
       "      <th>2</th>\n",
       "      <td>679455655</td>\n",
       "      <td>Atlanta</td>\n",
       "      <td>First they \"lost\" my order, actually they gave...</td>\n",
       "    </tr>\n",
       "    <tr>\n",
       "      <th>3</th>\n",
       "      <td>679455656</td>\n",
       "      <td>Atlanta</td>\n",
       "      <td>I see I'm not the only one giving 1 star. Only...</td>\n",
       "    </tr>\n",
       "    <tr>\n",
       "      <th>4</th>\n",
       "      <td>679455657</td>\n",
       "      <td>Atlanta</td>\n",
       "      <td>Well, it's McDonald's, so you know what the fo...</td>\n",
       "    </tr>\n",
       "  </tbody>\n",
       "</table>\n",
       "</div>"
      ],
      "text/plain": [
       "    _unit_id     city                                             review\n",
       "0  679455653  Atlanta  I'm not a huge mcds lover, but I've been to be...\n",
       "1  679455654  Atlanta  Terrible customer service. I came in at 9:30pm...\n",
       "2  679455655  Atlanta  First they \"lost\" my order, actually they gave...\n",
       "3  679455656  Atlanta  I see I'm not the only one giving 1 star. Only...\n",
       "4  679455657  Atlanta  Well, it's McDonald's, so you know what the fo..."
      ]
     },
     "execution_count": 327,
     "metadata": {},
     "output_type": "execute_result"
    }
   ],
   "source": [
    "###IMPORT DATA\n",
    "\n",
    "import pandas as pd\n",
    "import re\n",
    "data=pd.read_csv(\"../datasets/mcdonalds-yelp-negative-reviews.csv\", encoding=\"latin1\")\n",
    "data.head()"
   ]
  },
  {
   "cell_type": "code",
   "execution_count": 328,
   "id": "7ce3591b",
   "metadata": {},
   "outputs": [],
   "source": [
    "#THEME1\n",
    "data['Theme']=data['review'].str.replace(r'\\b([P|p]oor)|\\b([S|s]low)|\\b([T|t]errible)|\\b([W|w]rong)|\\b([L|l]ost)|\\b([f|f]ail)','_CustService_',regex=True)"
   ]
  },
  {
   "cell_type": "code",
   "execution_count": 329,
   "id": "d7723338",
   "metadata": {},
   "outputs": [],
   "source": [
    "#THEME2\n",
    "data['Theme']=data['Theme'].str.replace(r'\\b([F|f]ilthy)|\\b([U|u]nclean)|\\b([D|d]irty)','_OverallHygiene_',regex=True)"
   ]
  },
  {
   "cell_type": "code",
   "execution_count": 330,
   "id": "b3569f21",
   "metadata": {},
   "outputs": [],
   "source": [
    "#THEME3\n",
    "data['Theme']=data['Theme'].str.replace(r'\\b([U|u]nfriendly)|\\b([R|r]ude)|\\b([u|U]nkind)|\\b([A|a]ttitude)',\\\n",
    "                                             '_StaffandMgmt_',regex=True)"
   ]
  },
  {
   "cell_type": "code",
   "execution_count": 331,
   "id": "58089e34",
   "metadata": {},
   "outputs": [],
   "source": [
    "#THEME4\n",
    "data['Theme']=data['Theme'].str.replace(r'([b|B]ad [q|Q]uality)|\\b([c|C]old)|\\b([m|M]icrowave)',\\\n",
    "                                         '_QualofFood_',regex=True)"
   ]
  },
  {
   "cell_type": "code",
   "execution_count": 338,
   "id": "33a43dc1",
   "metadata": {},
   "outputs": [
    {
     "data": {
      "text/html": [
       "<div>\n",
       "<style scoped>\n",
       "    .dataframe tbody tr th:only-of-type {\n",
       "        vertical-align: middle;\n",
       "    }\n",
       "\n",
       "    .dataframe tbody tr th {\n",
       "        vertical-align: top;\n",
       "    }\n",
       "\n",
       "    .dataframe thead th {\n",
       "        text-align: right;\n",
       "    }\n",
       "</style>\n",
       "<table border=\"1\" class=\"dataframe\">\n",
       "  <thead>\n",
       "    <tr style=\"text-align: right;\">\n",
       "      <th></th>\n",
       "      <th>_unit_id</th>\n",
       "      <th>city</th>\n",
       "      <th>review</th>\n",
       "      <th>Theme</th>\n",
       "    </tr>\n",
       "  </thead>\n",
       "  <tbody>\n",
       "    <tr>\n",
       "      <th>0</th>\n",
       "      <td>679455653</td>\n",
       "      <td>Atlanta</td>\n",
       "      <td>I'm not a huge mcds lover, but I've been to be...</td>\n",
       "      <td>I'm not a huge mcds lover, but I've been to be...</td>\n",
       "    </tr>\n",
       "    <tr>\n",
       "      <th>1</th>\n",
       "      <td>679455654</td>\n",
       "      <td>Atlanta</td>\n",
       "      <td>Terrible customer service. I came in at 9:30pm...</td>\n",
       "      <td>_CustService_ customer service. I came in at 9...</td>\n",
       "    </tr>\n",
       "    <tr>\n",
       "      <th>2</th>\n",
       "      <td>679455655</td>\n",
       "      <td>Atlanta</td>\n",
       "      <td>First they \"lost\" my order, actually they gave...</td>\n",
       "      <td>First they \"_CustService_\" my order, actually ...</td>\n",
       "    </tr>\n",
       "    <tr>\n",
       "      <th>3</th>\n",
       "      <td>679455656</td>\n",
       "      <td>Atlanta</td>\n",
       "      <td>I see I'm not the only one giving 1 star. Only...</td>\n",
       "      <td>I see I'm not the only one giving 1 star. Only...</td>\n",
       "    </tr>\n",
       "    <tr>\n",
       "      <th>4</th>\n",
       "      <td>679455657</td>\n",
       "      <td>Atlanta</td>\n",
       "      <td>Well, it's McDonald's, so you know what the fo...</td>\n",
       "      <td>Well, it's McDonald's, so you know what the fo...</td>\n",
       "    </tr>\n",
       "  </tbody>\n",
       "</table>\n",
       "</div>"
      ],
      "text/plain": [
       "    _unit_id     city                                             review  \\\n",
       "0  679455653  Atlanta  I'm not a huge mcds lover, but I've been to be...   \n",
       "1  679455654  Atlanta  Terrible customer service. I came in at 9:30pm...   \n",
       "2  679455655  Atlanta  First they \"lost\" my order, actually they gave...   \n",
       "3  679455656  Atlanta  I see I'm not the only one giving 1 star. Only...   \n",
       "4  679455657  Atlanta  Well, it's McDonald's, so you know what the fo...   \n",
       "\n",
       "                                               Theme  \n",
       "0  I'm not a huge mcds lover, but I've been to be...  \n",
       "1  _CustService_ customer service. I came in at 9...  \n",
       "2  First they \"_CustService_\" my order, actually ...  \n",
       "3  I see I'm not the only one giving 1 star. Only...  \n",
       "4  Well, it's McDonald's, so you know what the fo...  "
      ]
     },
     "execution_count": 338,
     "metadata": {},
     "output_type": "execute_result"
    }
   ],
   "source": [
    "data.head()"
   ]
  },
  {
   "cell_type": "markdown",
   "id": "c303fb1e",
   "metadata": {},
   "source": [
    "#### 3."
   ]
  },
  {
   "cell_type": "code",
   "execution_count": 332,
   "id": "65c9203f",
   "metadata": {},
   "outputs": [
    {
     "data": {
      "text/plain": [
       "the            6208\n",
       "I              4330\n",
       "and            4070\n",
       "to             3953\n",
       "a              3426\n",
       "               ... \n",
       "replaced.         1\n",
       "Following         1\n",
       "DFW               1\n",
       "playplaces,       1\n",
       "guest.            1\n",
       "Length: 17315, dtype: int64"
      ]
     },
     "execution_count": 332,
     "metadata": {},
     "output_type": "execute_result"
    }
   ],
   "source": [
    "#Split the updated reviews into words\n",
    "s=data['Theme'].str.split(expand=True).stack().value_counts()\n",
    "s\n"
   ]
  },
  {
   "cell_type": "code",
   "execution_count": 333,
   "id": "e184da4e",
   "metadata": {},
   "outputs": [
    {
     "data": {
      "text/plain": [
       "_CustService_       280\n",
       "_OverallHygiene_     49\n",
       "_StaffandMgmt_      123\n",
       "_QualofFood_         83\n",
       "dtype: int64"
      ]
     },
     "execution_count": 333,
     "metadata": {},
     "output_type": "execute_result"
    }
   ],
   "source": [
    "#OVERALL SPLIT BY THEMES(keywords)\n",
    "\n",
    "result = s.filter(items = ['_CustService_','_OverallHygiene_','_StaffandMgmt_','_QualofFood_'])\n",
    "result"
   ]
  },
  {
   "cell_type": "code",
   "execution_count": 334,
   "id": "21383920",
   "metadata": {},
   "outputs": [],
   "source": [
    "## SPLIT BY CITY and THEME (keywords)\n",
    "\n",
    "result2=data.set_index('city')['Theme'].str.split(expand=True).stack().to_frame('Theme').reset_index()"
   ]
  },
  {
   "cell_type": "code",
   "execution_count": 335,
   "id": "7fb409fe",
   "metadata": {},
   "outputs": [],
   "source": [
    "result2=result2[result2['Theme'].isin(['_CustService_','_OverallHygiene_','_StaffandMgmt_','_QualofFood_'])].groupby(['city','Theme']).size()"
   ]
  },
  {
   "cell_type": "code",
   "execution_count": 336,
   "id": "297649d8",
   "metadata": {},
   "outputs": [
    {
     "data": {
      "text/plain": [
       "city         Theme           \n",
       "Atlanta      _CustService_       38\n",
       "             _OverallHygiene_     9\n",
       "             _QualofFood_         7\n",
       "             _StaffandMgmt_      12\n",
       "Chicago      _CustService_       42\n",
       "             _OverallHygiene_     4\n",
       "             _QualofFood_        19\n",
       "             _StaffandMgmt_      13\n",
       "Cleveland    _CustService_       17\n",
       "             _OverallHygiene_     2\n",
       "             _StaffandMgmt_       6\n",
       "Dallas       _CustService_       13\n",
       "             _OverallHygiene_     2\n",
       "             _QualofFood_         2\n",
       "             _StaffandMgmt_       6\n",
       "Houston      _CustService_       22\n",
       "             _OverallHygiene_     3\n",
       "             _QualofFood_         5\n",
       "             _StaffandMgmt_       6\n",
       "Las Vegas    _CustService_       78\n",
       "             _OverallHygiene_    12\n",
       "             _QualofFood_        31\n",
       "             _StaffandMgmt_      39\n",
       "Los Angeles  _CustService_       30\n",
       "             _OverallHygiene_     6\n",
       "             _QualofFood_         4\n",
       "             _StaffandMgmt_      14\n",
       "New York     _CustService_       14\n",
       "             _OverallHygiene_     3\n",
       "             _QualofFood_         3\n",
       "             _StaffandMgmt_      11\n",
       "Portland     _CustService_       12\n",
       "             _OverallHygiene_     5\n",
       "             _QualofFood_         8\n",
       "             _StaffandMgmt_       7\n",
       "dtype: int64"
      ]
     },
     "execution_count": 336,
     "metadata": {},
     "output_type": "execute_result"
    }
   ],
   "source": [
    "result2"
   ]
  },
  {
   "cell_type": "markdown",
   "id": "12c46e3e",
   "metadata": {},
   "source": [
    "#### 4.\n",
    "\n",
    "### Business Recommendations\n",
    "\n",
    "1. Customer service seems to be a a constant problem across all McDonalds Locations. McDonalds needs to ensure that customer satisication is being looked into with a concentrated effort to address slowness and correctness in terms of order fulfillment\n",
    "\n",
    "2. In Several locations like Las Vegas, New York, Chicago and Los Angeles the number of instances of staff being rude and unfriendly have been large which should be looked into and necessary steps like reorganization and adequate training should be taken.\n",
    "\n",
    "3. Overall Hygiene should be paramount and McDonalds should look to maintain a zero tolerant policy in terms of cleanliness and ensure that all surroundings are fresh, sanitized and clean at all times for a good customer experience\n",
    "\n",
    "4. Quality of Food should at all times top notch with the brand value at stake. McDonalds should stand for fast food which is the freshest and tastiest. Steps should be taken to ensure all fresh items are being used to fulfill the orders at all time. Microwaving of old items should not be acceptable, serving cold food should mean stern action against the perpetrtor in teh respective store.\n",
    "\n",
    "\n",
    "##### Pitfalls/Limitations to be addressed\n",
    "\n",
    "a) The word count analysis is not useful at all times since it is very difficult to sometime understand the context of the sentence. A word like 'slow' might be used in multiple contexts and might not always be talking about customer service. This issue cannot be addressed by a word count analysis and might potentially skew the real picture for us\n",
    "\n",
    "b) The word count pertaining a review might not necessarily bring out the real sentiment of the review and will no thus be a good indicator of the real situation\n",
    "\n",
    "c) For the word count be more effective we need to make a more 'capturing group', a regex expression might not capture all the relevant bits and pieces of information in our dataset"
   ]
  }
 ],
 "metadata": {
  "kernelspec": {
   "display_name": "Python 3 (ipykernel)",
   "language": "python",
   "name": "python3"
  },
  "language_info": {
   "codemirror_mode": {
    "name": "ipython",
    "version": 3
   },
   "file_extension": ".py",
   "mimetype": "text/x-python",
   "name": "python",
   "nbconvert_exporter": "python",
   "pygments_lexer": "ipython3",
   "version": "3.8.12"
  },
  "toc": {
   "base_numbering": 1,
   "nav_menu": {},
   "number_sections": true,
   "sideBar": true,
   "skip_h1_title": false,
   "title_cell": "Table of Contents",
   "title_sidebar": "Contents",
   "toc_cell": false,
   "toc_position": {},
   "toc_section_display": true,
   "toc_window_display": false
  }
 },
 "nbformat": 4,
 "nbformat_minor": 5
}
